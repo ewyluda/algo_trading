{
 "cells": [
  {
   "cell_type": "code",
   "execution_count": 1,
   "id": "f385dd71",
   "metadata": {},
   "outputs": [],
   "source": [
    "# import dependencies\n",
    "\n",
    "import pandas as pd\n",
    "import numpy as np\n",
    "import datetime as dt\n",
    "from typing import List, Dict, Tuple, Any"
   ]
  },
  {
   "cell_type": "markdown",
   "id": "1eea6087",
   "metadata": {},
   "source": [
    "# 2.2: The Return Series"
   ]
  },
  {
   "cell_type": "code",
   "execution_count": 2,
   "id": "5eab90ce",
   "metadata": {},
   "outputs": [],
   "source": [
    "# 2.1: calculating the return series in pure python\n",
    "\n",
    "def calculate_return_series(prices: List[float]) -> List[float]:\n",
    "    '''Calculates return series as parallel list of returns on prices'''\n",
    "    return_seres = [None]\n",
    "    for i in range(1, len(prices)):\n",
    "        return_series.append((prices[i] / prices[i-1]) - 1)\n",
    "    return return_series        "
   ]
  },
  {
   "cell_type": "code",
   "execution_count": 3,
   "id": "a67be067",
   "metadata": {},
   "outputs": [],
   "source": [
    "# 2.2:  calculating the return series with pandas\n",
    "def calculate_return_series_pd(series: pd.Series) -> pd.Series:\n",
    "    '''\n",
    "    Calculates the return series of a time series.\n",
    "    The first value will always be NaN\n",
    "    Output series retains the inex of the input series\n",
    "    '''\n",
    "    shifted_series = series.shift(1, axis=0)\n",
    "    return series / shifted_series -1"
   ]
  },
  {
   "cell_type": "code",
   "execution_count": 4,
   "id": "73c1b6bb",
   "metadata": {},
   "outputs": [],
   "source": [
    "# 2.3:  calculating the log return series with pandas\n",
    "def calculate_log_return_series(series: pd.Series) -> pd.Series:\n",
    "    '''\n",
    "    Same as calculate_return_series_pd but with log returns\n",
    "    '''\n",
    "    shifted_series = series.shift(1, axis=0)\n",
    "    return pd.Series(np.log(series / shifted_series))"
   ]
  },
  {
   "cell_type": "markdown",
   "id": "316d3f49",
   "metadata": {},
   "source": [
    "# 2.3: Performance metrics"
   ]
  },
  {
   "cell_type": "code",
   "execution_count": 5,
   "id": "114b4a86",
   "metadata": {},
   "outputs": [],
   "source": [
    "# 2.4:  calculating annualized volatility\n",
    "def get_years_past(series: pd.Series) -> float:\n",
    "    '''\n",
    "    Calculate the years past according to the index of the series for use with functions that require annualization\n",
    "    '''\n",
    "    start_date = series.index[0]\n",
    "    end_date = series.index[-1]\n",
    "    return (end_date - start_date).days / 365.25\n",
    "\n",
    "def calculate_annualized_volatility(return_series: pd.Series) -> float:\n",
    "    '''\n",
    "    Calculates annualized volatility for a date-indexed return series.\n",
    "    Works for any interval of date-index prices and returns\n",
    "    '''\n",
    "    years_past = get_years_past(return_series)\n",
    "    entries_per_year = return_series.shape[0] / years_past\n",
    "    return return_series.std() * np.sqrt(entries_per_year)"
   ]
  },
  {
   "cell_type": "code",
   "execution_count": 6,
   "id": "d54c5021",
   "metadata": {},
   "outputs": [
    {
     "data": {
      "text/html": [
       "<div>\n",
       "<style scoped>\n",
       "    .dataframe tbody tr th:only-of-type {\n",
       "        vertical-align: middle;\n",
       "    }\n",
       "\n",
       "    .dataframe tbody tr th {\n",
       "        vertical-align: top;\n",
       "    }\n",
       "\n",
       "    .dataframe thead th {\n",
       "        text-align: right;\n",
       "    }\n",
       "</style>\n",
       "<table border=\"1\" class=\"dataframe\">\n",
       "  <thead>\n",
       "    <tr style=\"text-align: right;\">\n",
       "      <th></th>\n",
       "      <th>open</th>\n",
       "      <th>close</th>\n",
       "      <th>low</th>\n",
       "      <th>high</th>\n",
       "      <th>volume</th>\n",
       "    </tr>\n",
       "    <tr>\n",
       "      <th>date</th>\n",
       "      <th></th>\n",
       "      <th></th>\n",
       "      <th></th>\n",
       "      <th></th>\n",
       "      <th></th>\n",
       "    </tr>\n",
       "  </thead>\n",
       "  <tbody>\n",
       "    <tr>\n",
       "      <th>2010-01-04</th>\n",
       "      <td>112.37</td>\n",
       "      <td>113.33</td>\n",
       "      <td>111.51</td>\n",
       "      <td>113.39</td>\n",
       "      <td>118944600</td>\n",
       "    </tr>\n",
       "    <tr>\n",
       "      <th>2010-01-05</th>\n",
       "      <td>113.26</td>\n",
       "      <td>113.63</td>\n",
       "      <td>112.85</td>\n",
       "      <td>113.68</td>\n",
       "      <td>111579900</td>\n",
       "    </tr>\n",
       "    <tr>\n",
       "      <th>2010-01-06</th>\n",
       "      <td>113.52</td>\n",
       "      <td>113.71</td>\n",
       "      <td>113.43</td>\n",
       "      <td>113.99</td>\n",
       "      <td>116074400</td>\n",
       "    </tr>\n",
       "    <tr>\n",
       "      <th>2010-01-07</th>\n",
       "      <td>113.50</td>\n",
       "      <td>114.19</td>\n",
       "      <td>113.18</td>\n",
       "      <td>114.33</td>\n",
       "      <td>131091100</td>\n",
       "    </tr>\n",
       "    <tr>\n",
       "      <th>2010-01-08</th>\n",
       "      <td>113.89</td>\n",
       "      <td>114.57</td>\n",
       "      <td>113.66</td>\n",
       "      <td>114.62</td>\n",
       "      <td>126402800</td>\n",
       "    </tr>\n",
       "  </tbody>\n",
       "</table>\n",
       "</div>"
      ],
      "text/plain": [
       "              open   close     low    high     volume\n",
       "date                                                 \n",
       "2010-01-04  112.37  113.33  111.51  113.39  118944600\n",
       "2010-01-05  113.26  113.63  112.85  113.68  111579900\n",
       "2010-01-06  113.52  113.71  113.43  113.99  116074400\n",
       "2010-01-07  113.50  114.19  113.18  114.33  131091100\n",
       "2010-01-08  113.89  114.57  113.66  114.62  126402800"
      ]
     },
     "execution_count": 6,
     "metadata": {},
     "output_type": "execute_result"
    }
   ],
   "source": [
    "# loading functions from pypm folder to load EOD data\n",
    "from pypm import data_io, metrics\n",
    "\n",
    "# df = data_io.load_eod_data('AWU')\n",
    "\n",
    "df = pd.read_csv('data/SPY.csv')\n",
    "df['date'] = pd.to_datetime(df['date'])\n",
    "df.set_index(df['date'], inplace=True)\n",
    "df.drop(columns=['date'], inplace=True)\n",
    "\n",
    "return_series = metrics.calculate_log_return_series(df['close'])\n",
    "df.head()"
   ]
  },
  {
   "cell_type": "code",
   "execution_count": 7,
   "id": "6eedaa0c",
   "metadata": {},
   "outputs": [
    {
     "name": "stdout",
     "output_type": "stream",
     "text": [
      "<class 'pandas.core.frame.DataFrame'>\n",
      "DatetimeIndex: 2516 entries, 2010-01-04 to 2019-12-31\n",
      "Data columns (total 5 columns):\n",
      " #   Column  Non-Null Count  Dtype  \n",
      "---  ------  --------------  -----  \n",
      " 0   open    2516 non-null   float64\n",
      " 1   close   2516 non-null   float64\n",
      " 2   low     2516 non-null   float64\n",
      " 3   high    2516 non-null   float64\n",
      " 4   volume  2516 non-null   int64  \n",
      "dtypes: float64(4), int64(1)\n",
      "memory usage: 117.9 KB\n"
     ]
    }
   ],
   "source": [
    "df.info()"
   ]
  },
  {
   "cell_type": "code",
   "execution_count": 9,
   "id": "2f3cec8b",
   "metadata": {},
   "outputs": [
    {
     "name": "stdout",
     "output_type": "stream",
     "text": [
      "0.14768527967136866\n"
     ]
    }
   ],
   "source": [
    "print(metrics.calculate_annualized_volatility(return_series))"
   ]
  },
  {
   "cell_type": "markdown",
   "id": "609c08d6",
   "metadata": {},
   "source": [
    "## 2.3.2: Sharpe Ratio"
   ]
  },
  {
   "cell_type": "code",
   "execution_count": 14,
   "id": "53c871e8",
   "metadata": {},
   "outputs": [],
   "source": [
    "# 2.3.2.1:  calculating Compounded Annual Growth Rate - CAGR\n",
    "def calculate_cagr(series: pd.Series) -> float:\n",
    "    '''\n",
    "    Calculate compounded annual growth rate\n",
    "    '''\n",
    "    value_factor = series.iloc[-1] / series.iloc[0]\n",
    "    year_past = get_years_past(series)\n",
    "    return (value_factor ** (1 / year_past)) -1"
   ]
  },
  {
   "cell_type": "code",
   "execution_count": 15,
   "id": "0c3df5db",
   "metadata": {},
   "outputs": [
    {
     "name": "stdout",
     "output_type": "stream",
     "text": [
      "0.11016653428843459\n"
     ]
    }
   ],
   "source": [
    "# calculating CAGR on SPY\n",
    "print(metrics.calculate_cagr(df['close']))"
   ]
  },
  {
   "cell_type": "code",
   "execution_count": 16,
   "id": "97661512",
   "metadata": {},
   "outputs": [],
   "source": [
    "# 2.3.2.3:  calculating the sharpe ratio\n",
    "def calculate_sharpe_ratio(price_series: pd.Series, benchmark_rate: float=0) -> float:\n",
    "    '''\n",
    "    Calculate the sharpe ratio given a price series. Defaults to the benchmark_rate of zero\n",
    "    '''\n",
    "    cagr = calculate_cagr(price_series)\n",
    "    return_series = calculate_return_series(price_series)\n",
    "    volatility = calculate_annualized_volatility(return_series)\n",
    "    return (cagr - benchmark_rate) / volatility"
   ]
  },
  {
   "cell_type": "code",
   "execution_count": 17,
   "id": "d79cc95f",
   "metadata": {},
   "outputs": [
    {
     "name": "stdout",
     "output_type": "stream",
     "text": [
      "0.7472551217837079\n"
     ]
    }
   ],
   "source": [
    "# calculating sharpe ratio on SPY\n",
    "print(metrics.calculate_sharpe_ratio(df['close']))"
   ]
  },
  {
   "cell_type": "code",
   "execution_count": 18,
   "id": "a874ad81",
   "metadata": {},
   "outputs": [],
   "source": [
    "# 2.3.3  Sortino Ratio\n",
    "def calculate_annualized_downside_deviation(return_series: pd.Series, benchmark_rate: float=0) -> float:\n",
    "    '''\n",
    "    Calculates the downside deviation for use in the sortino ratio.\n",
    "    \n",
    "    Benchmark rate is assumed to be annualized. It will be adjusted \n",
    "    according to the number of periods per year seen in the data\n",
    "    '''\n",
    "    # For both de-annualized the benchmark rate and annualized result\n",
    "    years_past = get_years_past(return_series)\n",
    "    entries_per_year = return_series.shape[0] / years_past\n",
    "    \n",
    "    adjusted_benchmark_rate = ((1 + benchmark_rate) ** (1/entries_per_year)) -1\n",
    "    \n",
    "    downside_series = adjusted_benchmark_rate - return_series\n",
    "    downside_sum_of_squares = (downside_series[downside_series > 0] ** 2).sum()\n",
    "    denominator = return_series.shape[0] - 1\n",
    "    downside_deviation = np.sqrt(downside_sum_of_squares / denominator)\n",
    "    \n",
    "    return downside_deviation * np.sqrt(entries_per_year)\n",
    "\n",
    "def calculate_sortino_ratio(price_series: pd.Series, benchmark_rate: float=0) -> float:\n",
    "    '''\n",
    "    Calculates the sortino ratio\n",
    "    '''\n",
    "    cagr = calculate_cagr(price_series)\n",
    "    return_series = calculate_return_series(price_series)\n",
    "    downside_deviation = calculate_annualized_downside_deviation(return_series)\n",
    "    \n",
    "    return (cagr - benchmark_rate) / downside_deviation"
   ]
  },
  {
   "cell_type": "code",
   "execution_count": 19,
   "id": "28424ce6",
   "metadata": {},
   "outputs": [
    {
     "name": "stdout",
     "output_type": "stream",
     "text": [
      "1.0445291425749788\n"
     ]
    }
   ],
   "source": [
    "# calculate sortino ratio for SPY\n",
    "print(metrics.calculate_sortino_ratio(df['close']))"
   ]
  },
  {
   "cell_type": "markdown",
   "id": "04d970e0",
   "metadata": {},
   "source": [
    "## 2.3.4  Maximum Drawdown Statistics"
   ]
  },
  {
   "cell_type": "code",
   "execution_count": 20,
   "id": "3b504bdd",
   "metadata": {},
   "outputs": [],
   "source": [
    "from typing import Dict, Any, Callable"
   ]
  },
  {
   "cell_type": "code",
   "execution_count": 21,
   "id": "8f2abd3a",
   "metadata": {},
   "outputs": [],
   "source": [
    "# 2.10 computing maximum drawdown\n",
    "\n",
    "DRAWDOWN_EVALUATORS: Dict[str, Callable] = {\n",
    "    'dollar': lambda price, peak: peak - price,\n",
    "    'percent': lambda price, peak: -((price / peak) -1),\n",
    "    'log': lambda price, peak: np.log(peak) - np.log(price),\n",
    "}"
   ]
  },
  {
   "cell_type": "code",
   "execution_count": 22,
   "id": "da0e3e06",
   "metadata": {},
   "outputs": [],
   "source": [
    "def calculate_drawdown_series(series: pd.Series, method: str='log') -> pd.Series:\n",
    "    '''\n",
    "    Returns the drawdown series\n",
    "    '''\n",
    "    assert method in DRAWDOWN_EVALUATORS, \\\n",
    "        f'Method \"{method}\" must be one of {list(DRAWDOWN_EVALUATORS.keys())}'\n",
    "    \n",
    "    evaluator = DRAWDOWN_EVALUATORS[method]\n",
    "    return evaluator(series, series.cummax())\n",
    "\n",
    "def calculate_max_drawdown(series: pd.Series, method: str='log') -> float:\n",
    "    '''\n",
    "    Simply returns the max drawdown as a float\n",
    "    '''\n",
    "    return calculate_drawdown_series(series, method).max()"
   ]
  },
  {
   "cell_type": "code",
   "execution_count": 23,
   "id": "b8963ef6",
   "metadata": {},
   "outputs": [
    {
     "name": "stdout",
     "output_type": "stream",
     "text": [
      "59.23999999999998\n"
     ]
    }
   ],
   "source": [
    "print(metrics.calculate_max_drawdown(df['close'], method='dollar'))"
   ]
  },
  {
   "cell_type": "code",
   "execution_count": 24,
   "id": "5844175e",
   "metadata": {},
   "outputs": [],
   "source": [
    "# 2.11 calculating max drawdown with metadata\n",
    "\n",
    "def calculate_max_drawdown_with_metadata(series: pd.Series, method: str='log') -> Dict[str, Any]:\n",
    "    '''\n",
    "    Calculates max_drawdown and stores metadata about when and where. Returns a dictionary of the form\n",
    "        {\n",
    "        'max_drawdown': float,\n",
    "        'peak_date': pd.Timestamp,\n",
    "        'peak_price': float,\n",
    "        'trough_date': pd.Timestamp,\n",
    "        'trough_price': float,\n",
    "        }'''\n",
    "    assert method in DRAWDOWN_EVALUATORS, \\\n",
    "        f'Method \"{method}\" must be one of {list(DRAWDOWN_EVALUATORS.keys())}'\n",
    "    \n",
    "    evaluator = DRAWDOWN_EVAlUATORS[method]\n",
    "    \n",
    "    max_drawdown = 0\n",
    "    local_peak_date = peak_date = trough_date = series.index[0]\n",
    "    local_peak_price = peak_price = trough_price = series.iloc[0]\n",
    "    \n",
    "    for date, price in series.iteritems():\n",
    "        \n",
    "        # Keep track of rolloing max\n",
    "        if price > local_peak_price:\n",
    "            local_peak_date = date\n",
    "            local_peak_price = price\n",
    "            \n",
    "        # Compute the drawdown\n",
    "        drawdown = evaluator(price, local_peak_price)\n",
    "        \n",
    "        # Store new max drawdown values\n",
    "        if drawdown > max_drawdown:\n",
    "            max_drawdown = drawdown\n",
    "            \n",
    "            peak_date = local_peak_date\n",
    "            peak_price = local_peak_price\n",
    "            \n",
    "            trough_date = date\n",
    "            trough_price = price\n",
    "            \n",
    "    return {\n",
    "        'max_drawdown': max_drawdown,\n",
    "        'peak_date': peak_date,\n",
    "        'peak_price': peak_price,\n",
    "        'trough_date': trough_date,\n",
    "        'trough_price': trough_price\n",
    "    }"
   ]
  },
  {
   "cell_type": "code",
   "execution_count": 25,
   "id": "dafde739",
   "metadata": {},
   "outputs": [
    {
     "name": "stdout",
     "output_type": "stream",
     "text": [
      "{'max_drawdown': 0.22537712228907747, 'peak_date': Timestamp('2018-09-20 00:00:00'), 'peak_price': 293.58, 'trough_date': Timestamp('2018-12-24 00:00:00'), 'trough_price': 234.34}\n"
     ]
    }
   ],
   "source": [
    "print(metrics.calculate_max_drawdown_with_metadata(df['close']))"
   ]
  },
  {
   "cell_type": "markdown",
   "id": "e7c2b28b",
   "metadata": {},
   "source": [
    "#### 2.3.4.2  Log Max Drawdown Ratio"
   ]
  },
  {
   "cell_type": "code",
   "execution_count": 26,
   "id": "c6c1a603",
   "metadata": {},
   "outputs": [],
   "source": [
    "# 2.12:  Computing log max drawdown ratio\n",
    "def calculate_log_max_drawdown_ratio(series: pd.Series) -> float:\n",
    "    log_drawdown = calculate_max_drawdown(series, method='log')\n",
    "    log_return = np.log(series.iloc[-1]) - np.log(series.iloc[0])\n",
    "    \n",
    "    return log_return - log_drawdown"
   ]
  },
  {
   "cell_type": "code",
   "execution_count": 27,
   "id": "d4b271fe",
   "metadata": {},
   "outputs": [
    {
     "name": "stdout",
     "output_type": "stream",
     "text": [
      "0.8184356293564141\n"
     ]
    }
   ],
   "source": [
    "print(metrics.calculate_log_max_drawdown_ratio(df['close']))"
   ]
  },
  {
   "cell_type": "markdown",
   "id": "eb568ada",
   "metadata": {},
   "source": [
    "#### 2.3.4.3  Calmar Ratio"
   ]
  },
  {
   "cell_type": "code",
   "execution_count": 28,
   "id": "554c2005",
   "metadata": {},
   "outputs": [],
   "source": [
    "# Calmar Ratio - the percentage max drawdown ratio computed over a three year trailing period\n",
    "\n",
    "def calculate_calmar_ratio(series: pd.Series, years_past: int=3) -> float:\n",
    "    '''\n",
    "    Return the percent max drawdown ratio over the past three years using CAGR as the numerator, \n",
    "    otherwise known as the Calmar Ratio\n",
    "    '''\n",
    "    \n",
    "    # Filter series on past three years\n",
    "    last_date = series.index[-1]\n",
    "    three_years_ago = last_date - pd.Timedelta(days=years_past*365.25)\n",
    "    series = series[series.index > three_years_ago]\n",
    "    \n",
    "    # Compute annualized percent max drawdown ratio\n",
    "    percent_drawdown = calculate_max_drawdown(series, method='percent')\n",
    "    cagr = calculate_cagr(series)\n",
    "    \n",
    "    return cagr / percent_drawdown"
   ]
  },
  {
   "cell_type": "code",
   "execution_count": 29,
   "id": "09c4a41b",
   "metadata": {},
   "outputs": [
    {
     "name": "stdout",
     "output_type": "stream",
     "text": [
      "0.6284491537903574\n"
     ]
    }
   ],
   "source": [
    "print(metrics.calculate_calmar_ratio(df['close']))"
   ]
  },
  {
   "cell_type": "markdown",
   "id": "89d46d50",
   "metadata": {},
   "source": [
    "### 2.3.5  Regression-based Statistics"
   ]
  },
  {
   "cell_type": "markdown",
   "id": "a8961f5e",
   "metadata": {},
   "source": [
    "#### 2.3.5.1  Pure Profit Score (PPS)"
   ]
  },
  {
   "cell_type": "code",
   "execution_count": 32,
   "id": "01510f90",
   "metadata": {},
   "outputs": [],
   "source": [
    "# The PPS scales the annualized portfolio return against the linearity of the equity curve.\n",
    "\n",
    "from sklearn.linear_model import LinearRegression\n",
    "\n",
    "def calculate_pure_profit_score(price_series: pd.Series) -> float:\n",
    "    '''\n",
    "    Calculates the pure profit score\n",
    "    '''\n",
    "    cagr = calculate_cagr(price_series)\n",
    "    \n",
    "    # Build a single column for a predictor, t\n",
    "    t: np.npdarray = np.arrange(0, price_series.shape[0]).reshape(-1, 1)\n",
    "        \n",
    "    # Fit the regression\n",
    "    regression = LinearRegression().fit(t, price_series)\n",
    "    \n",
    "    # Get the r-squared value\n",
    "    r_sqaured = regression.score(t, price_series)\n",
    "    \n",
    "    return cagr * r_squared"
   ]
  },
  {
   "cell_type": "code",
   "execution_count": 33,
   "id": "0278c704",
   "metadata": {},
   "outputs": [
    {
     "name": "stdout",
     "output_type": "stream",
     "text": [
      "0.10652027614035113\n"
     ]
    }
   ],
   "source": [
    "print(metrics.calculate_pure_profit_score(df['close']))"
   ]
  },
  {
   "cell_type": "markdown",
   "id": "c0b02008",
   "metadata": {},
   "source": [
    "#### 2.3.5.2  Jensen's Alpha"
   ]
  },
  {
   "cell_type": "code",
   "execution_count": 34,
   "id": "2b930da0",
   "metadata": {},
   "outputs": [],
   "source": [
    "# Jensen's Alpha is the a (alpha) of the following regression\n",
    "\n",
    "# 2.15:  Calculating Jensen's Alpha\n",
    "\n",
    "def calculate_jensens_alpha(return_series: pd.Series, benchmark_return_series: pd.Series) -> float:\n",
    "    '''\n",
    "    Calculates jensens alpha. Prefers input series have the same index.\n",
    "    Handles NAs.\n",
    "    '''\n",
    "    \n",
    "    # Join series along date index and purge NAs\n",
    "    df = pd.concat([return_series, benchmark_return_series], sort=True, axis=1)\n",
    "    df = df.dropna()\n",
    "    \n",
    "    # Get the appropriate data structure for scikit learn\n",
    "    clean_returns: pd.Series = df[return_series.name]\n",
    "    clean_benchmarks = pd.DataFrame(df[benchmark_return_series.name])\n",
    "    \n",
    "    # Fit a linear regression and return the alpha\n",
    "    regression = LinearRegression().fit(clean_benchmarks, y=clean_returns)\n",
    "    \n",
    "    return regression.intercept_"
   ]
  },
  {
   "cell_type": "code",
   "execution_count": 37,
   "id": "5e831ad6",
   "metadata": {},
   "outputs": [
    {
     "name": "stdout",
     "output_type": "stream",
     "text": [
      "[-5.68434189e-14 -5.68434189e-14]\n"
     ]
    }
   ],
   "source": [
    "# in this case, SPY would most likely be the benchmark index\n",
    "# and since it is the only DF i have loaded in, i am comparing it against itself\n",
    "\n",
    "print(metrics.calculate_jensens_alpha(df['close'], df['close']))"
   ]
  },
  {
   "cell_type": "code",
   "execution_count": null,
   "id": "4aac96b2",
   "metadata": {},
   "outputs": [],
   "source": []
  }
 ],
 "metadata": {
  "kernelspec": {
   "display_name": "Python 3",
   "language": "python",
   "name": "python3"
  },
  "language_info": {
   "codemirror_mode": {
    "name": "ipython",
    "version": 3
   },
   "file_extension": ".py",
   "mimetype": "text/x-python",
   "name": "python",
   "nbconvert_exporter": "python",
   "pygments_lexer": "ipython3",
   "version": "3.8.3"
  }
 },
 "nbformat": 4,
 "nbformat_minor": 5
}
