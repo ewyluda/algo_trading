{
 "cells": [
  {
   "cell_type": "markdown",
   "id": "201a0070",
   "metadata": {},
   "source": [
    "#  Chapter 3:  Technical Indicators"
   ]
  },
  {
   "cell_type": "code",
   "execution_count": 8,
   "id": "28b02db5",
   "metadata": {},
   "outputs": [],
   "source": [
    "# import dependencies\n",
    "\n",
    "import pandas as pd\n",
    "import datetime as dt\n",
    "import numpy as np\n",
    "from typing import List, Dict, Tuple, Any, Callable\n",
    "\n",
    "from pypm import indicators"
   ]
  },
  {
   "cell_type": "code",
   "execution_count": 3,
   "id": "f2d74cfc",
   "metadata": {},
   "outputs": [],
   "source": [
    "# import and load data...\n",
    "# loading SPY DF...\n",
    "\n",
    "df = pd.read_csv('data/SPY.csv')\n",
    "df['date'] = pd.to_datetime(df['date'])\n",
    "df.set_index(df['date'], inplace=True)\n",
    "df.drop(columns=['date'], inplace=True)"
   ]
  },
  {
   "cell_type": "code",
   "execution_count": 4,
   "id": "06313979",
   "metadata": {},
   "outputs": [
    {
     "data": {
      "text/html": [
       "<div>\n",
       "<style scoped>\n",
       "    .dataframe tbody tr th:only-of-type {\n",
       "        vertical-align: middle;\n",
       "    }\n",
       "\n",
       "    .dataframe tbody tr th {\n",
       "        vertical-align: top;\n",
       "    }\n",
       "\n",
       "    .dataframe thead th {\n",
       "        text-align: right;\n",
       "    }\n",
       "</style>\n",
       "<table border=\"1\" class=\"dataframe\">\n",
       "  <thead>\n",
       "    <tr style=\"text-align: right;\">\n",
       "      <th></th>\n",
       "      <th>open</th>\n",
       "      <th>close</th>\n",
       "      <th>low</th>\n",
       "      <th>high</th>\n",
       "      <th>volume</th>\n",
       "    </tr>\n",
       "    <tr>\n",
       "      <th>date</th>\n",
       "      <th></th>\n",
       "      <th></th>\n",
       "      <th></th>\n",
       "      <th></th>\n",
       "      <th></th>\n",
       "    </tr>\n",
       "  </thead>\n",
       "  <tbody>\n",
       "    <tr>\n",
       "      <th>2010-01-04</th>\n",
       "      <td>112.37</td>\n",
       "      <td>113.33</td>\n",
       "      <td>111.51</td>\n",
       "      <td>113.39</td>\n",
       "      <td>118944600</td>\n",
       "    </tr>\n",
       "    <tr>\n",
       "      <th>2010-01-05</th>\n",
       "      <td>113.26</td>\n",
       "      <td>113.63</td>\n",
       "      <td>112.85</td>\n",
       "      <td>113.68</td>\n",
       "      <td>111579900</td>\n",
       "    </tr>\n",
       "    <tr>\n",
       "      <th>2010-01-06</th>\n",
       "      <td>113.52</td>\n",
       "      <td>113.71</td>\n",
       "      <td>113.43</td>\n",
       "      <td>113.99</td>\n",
       "      <td>116074400</td>\n",
       "    </tr>\n",
       "    <tr>\n",
       "      <th>2010-01-07</th>\n",
       "      <td>113.50</td>\n",
       "      <td>114.19</td>\n",
       "      <td>113.18</td>\n",
       "      <td>114.33</td>\n",
       "      <td>131091100</td>\n",
       "    </tr>\n",
       "    <tr>\n",
       "      <th>2010-01-08</th>\n",
       "      <td>113.89</td>\n",
       "      <td>114.57</td>\n",
       "      <td>113.66</td>\n",
       "      <td>114.62</td>\n",
       "      <td>126402800</td>\n",
       "    </tr>\n",
       "  </tbody>\n",
       "</table>\n",
       "</div>"
      ],
      "text/plain": [
       "              open   close     low    high     volume\n",
       "date                                                 \n",
       "2010-01-04  112.37  113.33  111.51  113.39  118944600\n",
       "2010-01-05  113.26  113.63  112.85  113.68  111579900\n",
       "2010-01-06  113.52  113.71  113.43  113.99  116074400\n",
       "2010-01-07  113.50  114.19  113.18  114.33  131091100\n",
       "2010-01-08  113.89  114.57  113.66  114.62  126402800"
      ]
     },
     "execution_count": 4,
     "metadata": {},
     "output_type": "execute_result"
    }
   ],
   "source": [
    "df.head()"
   ]
  },
  {
   "cell_type": "markdown",
   "id": "48c66487",
   "metadata": {},
   "source": [
    "## 3.1  Rolling Functions and Algorithms"
   ]
  },
  {
   "cell_type": "markdown",
   "id": "3b62d7d5",
   "metadata": {},
   "source": [
    "### 3.1.1  Simple Moving Average"
   ]
  },
  {
   "cell_type": "code",
   "execution_count": 5,
   "id": "6d1e33ac",
   "metadata": {},
   "outputs": [],
   "source": [
    "# calculating simple moving average (SMA) in pandas\n",
    "\n",
    "def calculate_simple_moving_average(series: pd.Series, n: int=20) -> pd.Series:\n",
    "    '''\n",
    "    Calculates the simple moving average\n",
    "    '''\n",
    "    return series.rolling(n).mean()\n"
   ]
  },
  {
   "cell_type": "code",
   "execution_count": 10,
   "id": "370d015f",
   "metadata": {},
   "outputs": [
    {
     "name": "stdout",
     "output_type": "stream",
     "text": [
      "date\n",
      "2010-01-04         NaN\n",
      "2010-01-05         NaN\n",
      "2010-01-06         NaN\n",
      "2010-01-07         NaN\n",
      "2010-01-08         NaN\n",
      "                ...   \n",
      "2019-12-24    316.1215\n",
      "2019-12-26    316.5645\n",
      "2019-12-27    316.9335\n",
      "2019-12-30    317.2720\n",
      "2019-12-31    317.7830\n",
      "Name: close, Length: 2516, dtype: float64\n"
     ]
    }
   ],
   "source": [
    "print(calculate_simple_moving_average(df['close']))"
   ]
  },
  {
   "cell_type": "markdown",
   "id": "cc80ea97",
   "metadata": {},
   "source": [
    "### Simple Moving Stdev"
   ]
  },
  {
   "cell_type": "code",
   "execution_count": 18,
   "id": "3497f9db",
   "metadata": {},
   "outputs": [],
   "source": [
    "def calculate_simple_moving_sample_stdev(series: pd.Series, n: int=20) -> pd.Series:\n",
    "    \"\"\"Calculates the simple moving average\"\"\"\n",
    "    return series.rolling(n).std()"
   ]
  },
  {
   "cell_type": "markdown",
   "id": "3b0e84ac",
   "metadata": {},
   "source": [
    "### 3.1.2  Efficient Windowing Functions"
   ]
  },
  {
   "cell_type": "code",
   "execution_count": 14,
   "id": "0ae9da58",
   "metadata": {},
   "outputs": [],
   "source": [
    "# 3.2  calculating the simple moving average inefficiently, using pure python\n",
    "def slow_moving_average(values: List[float], m: int=20):\n",
    "    '''\n",
    "    This is 0(nm) time, because it re-computes the sum at every step\n",
    "    1 + 2 + 3 + 4 ... / m\n",
    "    2 + 3 + 4 + 5 ... / m\n",
    "    3 + 4 + 5 + 6 ... / m\n",
    "    4 + 5 + 6 + 7 ... / m\n",
    "    and so on ...\n",
    "    Leading to approx (m-1) * n individual additions\n",
    "    '''\n",
    "    \n",
    "    # Initial values\n",
    "    moving_average = [None] * (m-1)\n",
    "    \n",
    "    for i in range(m-1, len(values)):\n",
    "        the_average = np.mean(values[(i-m+1):i+1])\n",
    "        moving_average.append(the_average)\n",
    "        \n",
    "    return moving_average"
   ]
  },
  {
   "cell_type": "code",
   "execution_count": 15,
   "id": "73a6816b",
   "metadata": {},
   "outputs": [],
   "source": [
    "# 3.3  calculating the simple moving average efficently\n",
    "def fast_moving_average(values: List[float], m: int=20):\n",
    "    '''\n",
    "    This is 0(n) time, because it keeps track of the intermediate sum.\n",
    "    Loading to approx 2n individual additions.\n",
    "    '''\n",
    "    \n",
    "    # Initial values\n",
    "    moving_average = [None] * (m-1)\n",
    "    accumulator = sum(values[:m])\n",
    "    moving_average.append(accumulator / m)\n",
    "    \n",
    "    for i in range(m, len(values)):\n",
    "        accumulator -= values[i-m]\n",
    "        accumulator += values[i]\n",
    "        moving_average.append(accumulator / m)\n",
    "        \n",
    "    return moving_average"
   ]
  },
  {
   "cell_type": "markdown",
   "id": "a1b65daa",
   "metadata": {},
   "source": [
    "## 3.2  Oscillators"
   ]
  },
  {
   "cell_type": "markdown",
   "id": "ce0022f3",
   "metadata": {},
   "source": [
    "### 3.2.1  Moving Average Convergence Divergence Oscillator (MACD)"
   ]
  },
  {
   "cell_type": "code",
   "execution_count": 16,
   "id": "83c4c90e",
   "metadata": {},
   "outputs": [],
   "source": [
    "# 3.4  calculating the MACD Oscillator\n",
    "\n",
    "def calculate_macd_oscillator(series: pd.Series, n1: int=5, n2: int=34) -> pd.Series:\n",
    "    '''\n",
    "    Calculate the moving average convergence divergence oscillator, given a\n",
    "    short moving average length n1 and a long moving average length n2.\n",
    "    '''\n",
    "    assert n1 < n2, f'n1 must be less than n2'\n",
    "    return calculate_simple_moving_average(series, n1) - \\\n",
    "        calculate_simple_moving_average(series, n2)"
   ]
  },
  {
   "cell_type": "markdown",
   "id": "8844e5b7",
   "metadata": {},
   "source": [
    "## 3.3  Overlays"
   ]
  },
  {
   "cell_type": "markdown",
   "id": "0ca1c95c",
   "metadata": {},
   "source": [
    "### 3.3.1  Bollinger Bands"
   ]
  },
  {
   "cell_type": "code",
   "execution_count": 17,
   "id": "394d31fe",
   "metadata": {},
   "outputs": [],
   "source": [
    "# 3.5  calculate Bollinger Bands\n",
    "\n",
    "def calculate_bollinger_bands(series: pd.Series, n: int=20) -> pd.DataFrame:\n",
    "    '''\n",
    "    calculate the Bollinger Bands and returns them as a dataframe\n",
    "    '''\n",
    "    \n",
    "    sma = calculate_simple_moving_average(series, n)\n",
    "    stdev = calculate_simple_moving_stdev(series, n)\n",
    "    \n",
    "    return pd.DataFrame({\n",
    "        'middle': sma,\n",
    "        'upper': sma + 2 * stdev,\n",
    "        'lower': sma - 2 * stdev\n",
    "    })"
   ]
  },
  {
   "cell_type": "markdown",
   "id": "cec70376",
   "metadata": {},
   "source": [
    "## 3.4  Volume-based Indicators"
   ]
  },
  {
   "cell_type": "markdown",
   "id": "b92033de",
   "metadata": {},
   "source": [
    "### 3.4.1  Chaikin Money Flow"
   ]
  },
  {
   "cell_type": "code",
   "execution_count": 19,
   "id": "6d9aee31",
   "metadata": {},
   "outputs": [],
   "source": [
    "# The Chaikin Money Flow (CMF) is an oscillator that depends on both volume and candlestick data. - see text for formula\n",
    "\n",
    "# 3.6 calculating Chaikin Money Flow\n",
    "\n",
    "def calculate_money_flow_volume_series(df: pd.DataFrame) -> pd.Series:\n",
    "    '''\n",
    "    Calculates money flow series\n",
    "    '''\n",
    "    mfv = df['volume'] * (2*df['close'] - df['high'] - df['low']) / (df['high'] - df['low'])\n",
    "    \n",
    "    return mfv\n",
    "\n",
    "def calculate_money_flow_volume(df: pd.DataFrame, n: int=20) -> pd.Series:\n",
    "    '''\n",
    "    Calculates money flow volume, or q_t in our formula\n",
    "    '''\n",
    "    return calculate_money_flow_volume_series(df).rolling(n).sum()\n",
    "\n",
    "def calculate_chaikin_money_flow(df: pd.DataFrame, n: int=20) -> pd.Series:\n",
    "    '''\n",
    "    Calculates the Chaikin Money Flow\n",
    "    '''\n",
    "    return calculate_money_flow_volume(df, n) / df['volume'].rolling(n).sum()"
   ]
  },
  {
   "cell_type": "markdown",
   "id": "f76dd87d",
   "metadata": {},
   "source": [
    "## 3.5  Signals"
   ]
  },
  {
   "cell_type": "markdown",
   "id": "3cf518a6",
   "metadata": {},
   "source": [
    "### 3.5.2  Generating Signals from Indicators"
   ]
  },
  {
   "cell_type": "code",
   "execution_count": 22,
   "id": "733d790e",
   "metadata": {},
   "outputs": [],
   "source": [
    "# 3.7  Creating signals from indicators\n",
    "\n",
    "def create_macd_signal(series: pd.Series, n1: int=5, n2: int=34) -> pd.Series:\n",
    "    '''\n",
    "    Create a momentum-based signal based on the MACD crossover principle.\n",
    "    Generate a buy signal whe the MACD cross above zero, and a sell signal when it crosses below zero.\n",
    "    '''\n",
    "    # Calculate the macd and get the signs of the values\n",
    "    macd = calculate_macd_oscillator(series, n1, n2)\n",
    "    macd_sign = np.sign(macd)\n",
    "    \n",
    "    # Create a copy shifted by some amount\n",
    "    macd_shifted_sign = macd_sign.shift(1, axis=0)\n",
    "    \n",
    "    # Multiply the sign by the boolean. This will have the effect of casting\n",
    "    # the boolean to an integer (either 0 or 1) and then multiple by the sign\n",
    "    # (either -1, 0 or 1).\n",
    "    return macd_sign * (macd_sign != macd_shifted_sign)\n",
    "\n",
    "def create_bollinger_band_signal(series: pd.Series, n: int=20) -> pd.Series:\n",
    "    '''\n",
    "    Create a reversal-based signal based on the upper and lower bands of the \n",
    "    Bollinger bands. Generate a buy signal when the price is below the lower band,\n",
    "    and a sell signal when the price is above the upper band\n",
    "    '''\n",
    "    bollinger_bands = calculate_bollinger_bands(series, n)\n",
    "    sell = series > bollinger_bands['upper']\n",
    "    buy = series < bollinger_bands['lower']\n",
    "    return (1*buy - 1*sell)"
   ]
  },
  {
   "cell_type": "code",
   "execution_count": null,
   "id": "8cf41633",
   "metadata": {},
   "outputs": [],
   "source": []
  }
 ],
 "metadata": {
  "kernelspec": {
   "display_name": "Python 3",
   "language": "python",
   "name": "python3"
  },
  "language_info": {
   "codemirror_mode": {
    "name": "ipython",
    "version": 3
   },
   "file_extension": ".py",
   "mimetype": "text/x-python",
   "name": "python",
   "nbconvert_exporter": "python",
   "pygments_lexer": "ipython3",
   "version": "3.8.3"
  }
 },
 "nbformat": 4,
 "nbformat_minor": 5
}
