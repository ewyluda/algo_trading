{
 "cells": [
  {
   "cell_type": "markdown",
   "id": "92e19b60",
   "metadata": {},
   "source": [
    "# Chapter 4: Simulation"
   ]
  },
  {
   "cell_type": "markdown",
   "id": "f9b3cdf9",
   "metadata": {},
   "source": [
    "## 4.1  Software Design Principles"
   ]
  },
  {
   "cell_type": "markdown",
   "id": "9cee5c29",
   "metadata": {},
   "source": [
    "### 4.1.1 Object-Oriented Programming (OOP)"
   ]
  },
  {
   "cell_type": "code",
   "execution_count": 1,
   "id": "b009d85d",
   "metadata": {},
   "outputs": [],
   "source": [
    "# The \"Position\" class holds information relevant to a single trade troughout its life.\n",
    "# it can report information relevant to single trades, and check that trading activity is no erroneously recorded."
   ]
  },
  {
   "cell_type": "code",
   "execution_count": 2,
   "id": "cbdb72ed",
   "metadata": {},
   "outputs": [],
   "source": [
    "# The \"PortfolioHistory\" class holds a list of \"Position\" objects, records historical balances of cash,\n",
    "# and reports on performance and behavior of the portfolio overall.\n",
    "# it is also responsible for computing the equity curve, return series, and any performance metrics."
   ]
  },
  {
   "cell_type": "code",
   "execution_count": 3,
   "id": "8ff8154a",
   "metadata": {},
   "outputs": [],
   "source": [
    "# The \"SimpleSimulator\" class holds data about the prices, signals, and preferences of different stocks.\n",
    "# It is primarily responsible for stepping through time, while managing \"Position\" objects and recording\n",
    "# events in the \"PortfolioHistory\" object."
   ]
  },
  {
   "cell_type": "code",
   "execution_count": 4,
   "id": "c2998609",
   "metadata": {},
   "outputs": [],
   "source": [
    "# in order to write efficient code,liberal use of advanced Python programming features including...\n",
    "# decorators\n",
    "# static methods\n",
    "# pseudo-private attributes\n",
    "# pass-by-reference\n",
    "# magic methods\n",
    "# lambda functions"
   ]
  },
  {
   "cell_type": "markdown",
   "id": "d54057a5",
   "metadata": {},
   "source": [
    "### 4.1.2  Defensive Programming"
   ]
  },
  {
   "cell_type": "code",
   "execution_count": 5,
   "id": "aa582124",
   "metadata": {},
   "outputs": [
    {
     "data": {
      "text/plain": [
       "'\\nThe SimpleSimulator is responsible for managing multiple instances of the other 2 classes.\\nas such, it is possible and quite likely it will perform some undefined behavior at some point, such as:\\n- Opening and closing a position at the same instant\\n- Recording the same position multiple times in the portfolio history\\n- Recording an unclosed position\\n- Recording cash and portfolio histories along different sets of dates\\n- Having a negative cash balance\\n- Having multiple positions open in the same asset at the same time\\n'"
      ]
     },
     "execution_count": 5,
     "metadata": {},
     "output_type": "execute_result"
    }
   ],
   "source": [
    "'''\n",
    "The SimpleSimulator is responsible for managing multiple instances of the other 2 classes.\n",
    "as such, it is possible and quite likely it will perform some undefined behavior at some point, such as:\n",
    "- Opening and closing a position at the same instant\n",
    "- Recording the same position multiple times in the portfolio history\n",
    "- Recording an unclosed position\n",
    "- Recording cash and portfolio histories along different sets of dates\n",
    "- Having a negative cash balance\n",
    "- Having multiple positions open in the same asset at the same time\n",
    "'''"
   ]
  },
  {
   "cell_type": "code",
   "execution_count": 6,
   "id": "c68d2f7b",
   "metadata": {},
   "outputs": [
    {
     "ename": "AssertionError",
     "evalue": "You will see this message in an AssertionError",
     "output_type": "error",
     "traceback": [
      "\u001b[1;31m---------------------------------------------------------------------------\u001b[0m",
      "\u001b[1;31mAssertionError\u001b[0m                            Traceback (most recent call last)",
      "\u001b[1;32m<ipython-input-6-fe81401c21fb>\u001b[0m in \u001b[0;36m<module>\u001b[1;34m\u001b[0m\n\u001b[0;32m      2\u001b[0m \u001b[1;33m\u001b[0m\u001b[0m\n\u001b[0;32m      3\u001b[0m \u001b[1;32massert\u001b[0m \u001b[1;36m2\u001b[0m \u001b[1;33m+\u001b[0m \u001b[1;36m2\u001b[0m \u001b[1;33m==\u001b[0m \u001b[1;36m4\u001b[0m\u001b[1;33m,\u001b[0m \u001b[1;34m'The laws of mathematics are crumbling.'\u001b[0m\u001b[1;33m\u001b[0m\u001b[1;33m\u001b[0m\u001b[0m\n\u001b[1;32m----> 4\u001b[1;33m \u001b[1;32massert\u001b[0m \u001b[1;36m2\u001b[0m \u001b[1;33m+\u001b[0m \u001b[1;36m2\u001b[0m \u001b[1;33m==\u001b[0m \u001b[1;36m5\u001b[0m\u001b[1;33m,\u001b[0m \u001b[1;34m'You will see this message in an AssertionError'\u001b[0m\u001b[1;33m\u001b[0m\u001b[1;33m\u001b[0m\u001b[0m\n\u001b[0m",
      "\u001b[1;31mAssertionError\u001b[0m: You will see this message in an AssertionError"
     ]
    }
   ],
   "source": [
    "# 4.1: assert method examples\n",
    "\n",
    "assert 2 + 2 == 4, 'The laws of mathematics are crumbling.'\n",
    "assert 2 + 2 == 5, 'You will see this message in an AssertionError'"
   ]
  },
  {
   "cell_type": "markdown",
   "id": "9c5afe90",
   "metadata": {},
   "source": [
    "## 4.2  Building a Simulator"
   ]
  },
  {
   "cell_type": "markdown",
   "id": "f0dfaa75",
   "metadata": {},
   "source": [
    "### 4.2.1  Defining Supported Behanvior and Constraints"
   ]
  },
  {
   "cell_type": "code",
   "execution_count": 7,
   "id": "00b90dee",
   "metadata": {},
   "outputs": [],
   "source": [
    "#  The strategy will open and close long positions on a fixed maximum number of distinct assets simultaneously.\n",
    "#   - Entry and exit dates can be asynchronous\n",
    "#   - The number of shares held of each asset will be fixed over the length of the trade\n",
    "#   - Cash will be divided equally among available opportunies at time of purchase\n",
    "#   - Purchase of fractional shares is allowed for mathematical simplicity"
   ]
  },
  {
   "cell_type": "code",
   "execution_count": 8,
   "id": "95391d2f",
   "metadata": {},
   "outputs": [],
   "source": [
    "#  The simulator will support fees and slippage.\n",
    "#   - A fixed trade fee is supported. It will be charged once to the cash balance upon purchase, but not sale, of an asset\n",
    "#   - A percentage slippage amount is supported, of which will be applied adversely to the portfolio on both purchase and sale of an asset."
   ]
  },
  {
   "cell_type": "code",
   "execution_count": 9,
   "id": "b8f70afa",
   "metadata": {},
   "outputs": [],
   "source": [
    "#  The input data will consist of three date-indexed data frames with column names representing the assets under consideration.\n",
    "#   - Price will be a data frame of closing prices\n",
    "#   - Signal will be a data frame with integers in the set, {-1,0,1}, where -1 represents sell, 0 represents no signal, and 1 represents buy\n",
    "#   - Preference will be a data frame of floats representing relative preference for each symbol at any point in time.\n",
    "#     which may be entirely independent of the signal.\n",
    "#     The preferences will be use to determine which assets are bought or swapped out in the case of many concurrent buy signals.\n",
    "#   - The input data is assumed to have null values at the beginning of a series, but a non-null series cannot become null once it is in play,\n",
    "#     as the simulator moves forward in time. (i.g. stocks can be listed, but no delisted, during the simulation time frame)"
   ]
  },
  {
   "cell_type": "markdown",
   "id": "4816959c",
   "metadata": {},
   "source": [
    "### 4.2.2  Defining a Position Object"
   ]
  },
  {
   "cell_type": "code",
   "execution_count": 24,
   "id": "fd3fe465",
   "metadata": {},
   "outputs": [],
   "source": [
    "# The 'Position' class and a 'position' object are defined as follows:\n",
    "\n",
    "import pandas as pd\n",
    "from pandas import DataFrame\n",
    "import matplotlib.pyplot as plt\n",
    "from matplotlib.pyplot import figure\n",
    "from typing import Tuple, List, Dict, Callable, NewType, Any\n",
    "from collections import OrderedDict, defaultdict\n",
    "\n",
    "from pypm import metrics, signals, data_io"
   ]
  },
  {
   "cell_type": "code",
   "execution_count": 11,
   "id": "e820cda6",
   "metadata": {},
   "outputs": [],
   "source": [
    "# 4.2  Position and class definition\n",
    "\n",
    "Symbol = NewType('Symbol', str)\n",
    "Dollars = NewType('Dollars', float)\n",
    "\n",
    "DATE_FORMAT_STR = '%a %b %d, %Y'\n",
    "\n",
    "def _pdate(date: pd.Timestamp):\n",
    "    '''\n",
    "    Pretty-print a datetime with just the date\n",
    "    '''\n",
    "    return date.strftime(DATE_FORMAT_STR)\n",
    "\n",
    "class Position(object):\n",
    "    '''\n",
    "    A simple object to hold and manipulate data related to long stock trades.\n",
    "    \n",
    "    Allows a single buy and sell operation on an asset for a constant number of shares.\n",
    "    \n",
    "    The __init__ method is equivelant to a buy operation. The exit method is a sell operation.\n",
    "    '''\n",
    "    def __init__(self, symbol: Symbol, entry_date: pd.Timestamp, entry_price: Dollars, shares: int):\n",
    "        '''\n",
    "        Equivelent to buying a certian number of shares of the asset\n",
    "        '''\n",
    "        \n",
    "        # Recorded on initializatoin\n",
    "        self.entry_date = entry_date\n",
    "        self.entry_price = entry_price\n",
    "        self.shares = shares\n",
    "        self.symbol = symbol\n",
    "        \n",
    "        # Recorded on position exit\n",
    "        self.exit_date: pd.Timestamp = None\n",
    "        self.exit_price: Dollars = None\n",
    "        \n",
    "        # For easily getting current portfolio value\n",
    "        self.last_date: pd.Timestamp = None\n",
    "        self.last_price: Dollars = None\n",
    "            \n",
    "        # Updated intermediately\n",
    "        self._dict_series: Dict[pd.Timestamp, Dollars] = OrderedDict()\n",
    "        self.record_price_update(entry_date, entry_price)\n",
    "        \n",
    "        # Cache control for pd.Series representation\n",
    "        self._price_series: pd.Series = None\n",
    "        self._needs_update_pd_series: bool = True\n",
    "    \n",
    "    def exit(self, exit_date, exit_price):\n",
    "        '''\n",
    "        Equivelent to selling a stock holding\n",
    "        '''\n",
    "        assert self.entry_date != exit_date, 'Churned a position same-day.'\n",
    "        assert not self.exit_date, 'Position already closed.'\n",
    "        self.record_price_update(exit_date, exit_price)\n",
    "        self.exit_date = exit_date\n",
    "        self.exit_price = exit_price\n",
    "        \n",
    "    def record_price_update(self, date, price):\n",
    "        '''\n",
    "        Stateless function to record intermediate prices of existing positions\n",
    "        '''\n",
    "        self.last_date = date\n",
    "        self.last_price = price\n",
    "        self._dict_series[date] = price\n",
    "        \n",
    "        # Invalidate cache on self.price_series\n",
    "        self._needs_update_pd_series = True\n",
    "        \n",
    "    @property\n",
    "    def price_series(self) -> pd.Series:\n",
    "        '''\n",
    "        Returns cached read-only pd.Series\n",
    "        '''\n",
    "        if self._needs_update_pd_series or self._price_series is None:\n",
    "            self._price_series = pd.Series(self._dict_series)\n",
    "            self._needs_update_pd_series = False\n",
    "        return self._price_series\n",
    "    \n",
    "    @property\n",
    "    def last_value(self) -> Dollars:\n",
    "        return self.last_price * self.shares\n",
    "    \n",
    "    @property\n",
    "    def is_active(self) -> bool:\n",
    "        return self.exit_date is None\n",
    "    \n",
    "    @property\n",
    "    def is_closed(self) -> bool:\n",
    "        return not self.is_active\n",
    "    \n",
    "    @property\n",
    "    def value_series(self) -> pd.Series:\n",
    "        '''\n",
    "        Returns the value of the position over time. Ignores self.exit_date.\n",
    "        Used in calculating the equity curve\n",
    "        '''\n",
    "        assert self.is_closed, 'Position must be closed to access this property'\n",
    "        return self.shares * self.price_series[:-1]\n",
    "    \n",
    "    @property\n",
    "    def percent_return(self) -> float:\n",
    "        return (self.exit_price / self.entry_price) - 1\n",
    "    \n",
    "    @property\n",
    "    def entry_value(self) -> Dollars:\n",
    "        return self.shares * self.entry_price\n",
    "    \n",
    "    @property\n",
    "    def exit_value(self) -> Dollars:\n",
    "        return self.shares * self.exit_price\n",
    "    \n",
    "    @property\n",
    "    def change_in_value(self) -> Dollars:\n",
    "        return self.exit_value - self.entry_value\n",
    "    \n",
    "    @property\n",
    "    def trade_length(self):\n",
    "        return len(self._dict_series) - 1\n",
    "    \n",
    "    \n",
    "    def print_position_summary(self):\n",
    "        _entry_date = _pdate(self.entry_date)\n",
    "        _exit_date = _pdate(self.exit_date)\n",
    "        _days = self.trade_length\n",
    "        \n",
    "        _entry_price = round(self.entry_price, 2)\n",
    "        _exit_price = round(self.exit_price, 2)\n",
    "        \n",
    "        _entry_value = round(self.entry_value, 2)\n",
    "        _exit_value = round(self.exit_value, 2)\n",
    "        \n",
    "        _return = round(100 * self.percent_return, 1)\n",
    "        _diff = round(self.change_in_value, 2)\n",
    "        \n",
    "        print(f'{self.symbol:<5}     Trade Summary')\n",
    "        print(f'Date:    {_entry_date} -> {_exit_date} [{_days} days]')\n",
    "        print(f'Price:   ${_entry_price} -> ${_exit_price} [{_return}%]')\n",
    "        print(f'Value:   ${_entry_value} -> ${_exit_value} [${_diff}]')\n",
    "        print()\n",
    "        \n",
    "    def __hash__(self):\n",
    "        '''\n",
    "        A unique position will be defined by a unique combination of an \n",
    "        entry_date and symbol, in accordance with our constraints regarding\n",
    "        duplicate, variable, and compound positions\n",
    "        '''\n",
    "        return hash((self.entry_date, self.symbol))"
   ]
  },
  {
   "cell_type": "code",
   "execution_count": null,
   "id": "1148b95b",
   "metadata": {},
   "outputs": [],
   "source": [
    "df = pd.read_csv('data/eod/AWU.csv')\n",
    "df['date'] = pd.to_datetime(df['date'])\n",
    "df.set_index(df['date'], inplace=True)\n",
    "df.drop(columns=['date'], inplace=True)\n",
    "df.info()"
   ]
  },
  {
   "cell_type": "code",
   "execution_count": null,
   "id": "35a9bc00",
   "metadata": {},
   "outputs": [],
   "source": [
    "plt.plot(Position.price_series, df['close'])"
   ]
  },
  {
   "cell_type": "code",
   "execution_count": 13,
   "id": "5808f9e1",
   "metadata": {},
   "outputs": [
    {
     "name": "stdout",
     "output_type": "stream",
     "text": [
      "AWU       Trade summary\n",
      "Date:     Wed Jun 30, 2010 -> Tue Dec 07, 2010 [111 days]\n",
      "Price:    $220.34 -> $305.98 [38.9%]\n",
      "Value:    $11017.0 -> $15299.0 [$4282.0]\n",
      "\n"
     ]
    }
   ],
   "source": [
    "# 4.3 Position object usage\n",
    "\n",
    "from pypm import data_io, portfolio\n",
    "\n",
    "symbol = 'AWU'\n",
    "df = data_io.load_eod_data(symbol)\n",
    "shares_to_buy = 50\n",
    "\n",
    "for i, row in enumerate(df.itertuples()):\n",
    "    date = row.Index\n",
    "    price = row.close\n",
    "    \n",
    "    if i == 123:\n",
    "        position = portfolio.Position(symbol, date, price, shares_to_buy)\n",
    "    elif 123 < i < 234:\n",
    "        position.record_price_update(date, price)\n",
    "    elif i == 234:\n",
    "        position.exit(date, price)\n",
    "        \n",
    "position.print_position_summary()"
   ]
  },
  {
   "cell_type": "code",
   "execution_count": 25,
   "id": "fc511ba1",
   "metadata": {},
   "outputs": [
    {
     "data": {
      "text/plain": [
       "[<matplotlib.lines.Line2D at 0x2d609344a60>]"
      ]
     },
     "execution_count": 25,
     "metadata": {},
     "output_type": "execute_result"
    },
    {
     "data": {
      "image/png": "[encoded data removed]",
      "text/plain": [
       "<Figure size 640x480 with 1 Axes>"
      ]
     },
     "metadata": {
      "needs_background": "light"
     },
     "output_type": "display_data"
    }
   ],
   "source": [
    "figure(figsize=(8, 6), dpi=80)\n",
    "\n",
    "plt.plot(df.index, df['close'])"
   ]
  },
  {
   "cell_type": "code",
   "execution_count": 29,
   "id": "b82b82e5",
   "metadata": {},
   "outputs": [
    {
     "data": {
      "text/plain": [
       "<Figure size 640x480 with 0 Axes>"
      ]
     },
     "execution_count": 29,
     "metadata": {},
     "output_type": "execute_result"
    },
    {
     "data": {
      "image/png": "[encoded data removed]",
      "text/plain": [
       "<Figure size 432x288 with 1 Axes>"
      ]
     },
     "metadata": {
      "needs_background": "light"
     },
     "output_type": "display_data"
    },
    {
     "data": {
      "text/plain": [
       "<Figure size 640x480 with 0 Axes>"
      ]
     },
     "metadata": {},
     "output_type": "display_data"
    }
   ],
   "source": [
    "# First create some toy data:\n",
    "x = df.index\n",
    "y = df['close']\n",
    "\n",
    "# Create just a figure and only one subplot\n",
    "fig, ax = plt.subplots()\n",
    "ax.plot(x, y)\n",
    "ax.set_title('Simple plot')\n",
    "\n",
    "figure(figsize=(8, 6), dpi=80)"
   ]
  },
  {
   "cell_type": "code",
   "execution_count": 28,
   "id": "c92d682c",
   "metadata": {},
   "outputs": [
    {
     "data": {
      "text/plain": [
       "<matplotlib.collections.PathCollection at 0x2d609888070>"
      ]
     },
     "execution_count": 28,
     "metadata": {},
     "output_type": "execute_result"
    },
    {
     "data": {
      "text/plain": [
       "<Figure size 640x480 with 0 Axes>"
      ]
     },
     "metadata": {},
     "output_type": "display_data"
    },
    {
     "data": {
      "image/png": "[encoded data removed]",
      "text/plain": [
       "<Figure size 432x288 with 2 Axes>"
      ]
     },
     "metadata": {
      "needs_background": "light"
     },
     "output_type": "display_data"
    }
   ],
   "source": [
    "# Create two subplots and unpack the output array immediately\n",
    "figure(figsize=(8, 6), dpi=80)\n",
    "\n",
    "f, (ax1, ax2) = plt.subplots(1, 2, sharey=True)\n",
    "ax1.plot(x, y)\n",
    "ax1.set_title('Sharing Y axis')\n",
    "ax2.scatter(x[:112], position.price_series)"
   ]
  },
  {
   "cell_type": "code",
   "execution_count": null,
   "id": "1fc2842b",
   "metadata": {},
   "outputs": [],
   "source": []
  }
 ],
 "metadata": {
  "kernelspec": {
   "display_name": "Python 3",
   "language": "python",
   "name": "python3"
  },
  "language_info": {
   "codemirror_mode": {
    "name": "ipython",
    "version": 3
   },
   "file_extension": ".py",
   "mimetype": "text/x-python",
   "name": "python",
   "nbconvert_exporter": "python",
   "pygments_lexer": "ipython3",
   "version": "3.8.3"
  }
 },
 "nbformat": 4,
 "nbformat_minor": 5
}
