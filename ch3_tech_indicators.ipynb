{
 "cells": [
  {
   "cell_type": "markdown",
   "id": "e666fbe4",
   "metadata": {},
   "source": [
    "#  Chapter 3:  Technical Indicators"
   ]
  },
  {
   "cell_type": "code",
   "execution_count": 8,
   "id": "59c0dd7e",
   "metadata": {},
   "outputs": [],
   "source": [
    "# import dependencies\n",
    "\n",
    "import pandas as pd\n",
    "import datetime as dt\n",
    "import numpy as np\n",
    "from typing import List, Dict, Tuple, Any, Callable\n",
    "\n",
    "from pypm import indicators"
   ]
  },
  {
   "cell_type": "code",
   "execution_count": 3,
   "id": "3b84edb9",
   "metadata": {},
   "outputs": [],
   "source": [
    "# import and load data...\n",
    "# loading SPY DF...\n",
    "\n",
    "df = pd.read_csv('data/SPY.csv')\n",
    "df['date'] = pd.to_datetime(df['date'])\n",
    "df.set_index(df['date'], inplace=True)\n",
    "df.drop(columns=['date'], inplace=True)"
   ]
  },
  {
   "cell_type": "code",
   "execution_count": 4,
   "id": "c7d92797",
   "metadata": {},
   "outputs": [
    {
     "data": {
      "text/html": [
       "<div>\n",
       "<style scoped>\n",
       "    .dataframe tbody tr th:only-of-type {\n",
       "        vertical-align: middle;\n",
       "    }\n",
       "\n",
       "    .dataframe tbody tr th {\n",
       "        vertical-align: top;\n",
       "    }\n",
       "\n",
       "    .dataframe thead th {\n",
       "        text-align: right;\n",
       "    }\n",
       "</style>\n",
       "<table border=\"1\" class=\"dataframe\">\n",
       "  <thead>\n",
       "    <tr style=\"text-align: right;\">\n",
       "      <th></th>\n",
       "      <th>open</th>\n",
       "      <th>close</th>\n",
       "      <th>low</th>\n",
       "      <th>high</th>\n",
       "      <th>volume</th>\n",
       "    </tr>\n",
       "    <tr>\n",
       "      <th>date</th>\n",
       "      <th></th>\n",
       "      <th></th>\n",
       "      <th></th>\n",
       "      <th></th>\n",
       "      <th></th>\n",
       "    </tr>\n",
       "  </thead>\n",
       "  <tbody>\n",
       "    <tr>\n",
       "      <th>2010-01-04</th>\n",
       "      <td>112.37</td>\n",
       "      <td>113.33</td>\n",
       "      <td>111.51</td>\n",
       "      <td>113.39</td>\n",
       "      <td>118944600</td>\n",
       "    </tr>\n",
       "    <tr>\n",
       "      <th>2010-01-05</th>\n",
       "      <td>113.26</td>\n",
       "      <td>113.63</td>\n",
       "      <td>112.85</td>\n",
       "      <td>113.68</td>\n",
       "      <td>111579900</td>\n",
       "    </tr>\n",
       "    <tr>\n",
       "      <th>2010-01-06</th>\n",
       "      <td>113.52</td>\n",
       "      <td>113.71</td>\n",
       "      <td>113.43</td>\n",
       "      <td>113.99</td>\n",
       "      <td>116074400</td>\n",
       "    </tr>\n",
       "    <tr>\n",
       "      <th>2010-01-07</th>\n",
       "      <td>113.50</td>\n",
       "      <td>114.19</td>\n",
       "      <td>113.18</td>\n",
       "      <td>114.33</td>\n",
       "      <td>131091100</td>\n",
       "    </tr>\n",
       "    <tr>\n",
       "      <th>2010-01-08</th>\n",
       "      <td>113.89</td>\n",
       "      <td>114.57</td>\n",
       "      <td>113.66</td>\n",
       "      <td>114.62</td>\n",
       "      <td>126402800</td>\n",
       "    </tr>\n",
       "  </tbody>\n",
       "</table>\n",
       "</div>"
      ],
      "text/plain": [
       "              open   close     low    high     volume\n",
       "date                                                 \n",
       "2010-01-04  112.37  113.33  111.51  113.39  118944600\n",
       "2010-01-05  113.26  113.63  112.85  113.68  111579900\n",
       "2010-01-06  113.52  113.71  113.43  113.99  116074400\n",
       "2010-01-07  113.50  114.19  113.18  114.33  131091100\n",
       "2010-01-08  113.89  114.57  113.66  114.62  126402800"
      ]
     },
     "execution_count": 4,
     "metadata": {},
     "output_type": "execute_result"
    }
   ],
   "source": [
    "df.head()"
   ]
  },
  {
   "cell_type": "markdown",
   "id": "196ac834",
   "metadata": {},
   "source": [
    "## 3.1  Rolling Functions and Algorithms"
   ]
  },
  {
   "cell_type": "markdown",
   "id": "e7983a4c",
   "metadata": {},
   "source": [
    "### 3.1.1  Simple Moving Average"
   ]
  },
  {
   "cell_type": "code",
   "execution_count": 5,
   "id": "9a99e29e",
   "metadata": {},
   "outputs": [],
   "source": [
    "# calculating simple moving average (SMA) in pandas\n",
    "\n",
    "def calculate_simple_moving_average(series: pd.Series, n: int=20) -> pd.Series:\n",
    "    '''\n",
    "    Calculates the simple moving average\n",
    "    '''\n",
    "    return series.rolling(n).mean()\n"
   ]
  },
  {
   "cell_type": "code",
   "execution_count": 10,
   "id": "05f975b4",
   "metadata": {},
   "outputs": [
    {
     "name": "stdout",
     "output_type": "stream",
     "text": [
      "date\n",
      "2010-01-04         NaN\n",
      "2010-01-05         NaN\n",
      "2010-01-06         NaN\n",
      "2010-01-07         NaN\n",
      "2010-01-08         NaN\n",
      "                ...   \n",
      "2019-12-24    316.1215\n",
      "2019-12-26    316.5645\n",
      "2019-12-27    316.9335\n",
      "2019-12-30    317.2720\n",
      "2019-12-31    317.7830\n",
      "Name: close, Length: 2516, dtype: float64\n"
     ]
    }
   ],
   "source": [
    "print(calculate_simple_moving_average(df['close']))"
   ]
  },
  {
   "cell_type": "markdown",
   "id": "b13ae675",
   "metadata": {},
   "source": [
    "### 3.1.2  Efficient Windowing Functions"
   ]
  },
  {
   "cell_type": "code",
   "execution_count": 12,
   "id": "73aeb260",
   "metadata": {},
   "outputs": [],
   "source": [
    "# 3.2  calculating the simple moving average inefficiently, using pure python\n"
   ]
  },
  {
   "cell_type": "code",
   "execution_count": null,
   "id": "4101ef05",
   "metadata": {},
   "outputs": [],
   "source": []
  }
 ],
 "metadata": {
  "kernelspec": {
   "display_name": "Python 3",
   "language": "python",
   "name": "python3"
  },
  "language_info": {
   "codemirror_mode": {
    "name": "ipython",
    "version": 3
   },
   "file_extension": ".py",
   "mimetype": "text/x-python",
   "name": "python",
   "nbconvert_exporter": "python",
   "pygments_lexer": "ipython3",
   "version": "3.8.3"
  }
 },
 "nbformat": 4,
 "nbformat_minor": 5
}
