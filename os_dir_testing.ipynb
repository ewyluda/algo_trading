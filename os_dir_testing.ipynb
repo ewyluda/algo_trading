{
 "cells": [
  {
   "cell_type": "code",
   "execution_count": 32,
   "id": "2e71a91a",
   "metadata": {},
   "outputs": [],
   "source": [
    "import os\n",
    "from typing import Dict, List, Tuple\n",
    "import pandas as pd\n",
    "from pandas import DataFrame"
   ]
  },
  {
   "cell_type": "code",
   "execution_count": 12,
   "id": "5d30f8d9",
   "metadata": {},
   "outputs": [],
   "source": [
    "DATA_DIR = os.path.join(\n",
    "    os.path.dirname(os.path.abspath('__file__')), \n",
    "#    '..',\n",
    "#    '..',\n",
    "#    os.sep,\n",
    "    'data',\n",
    ")"
   ]
  },
  {
   "cell_type": "code",
   "execution_count": 13,
   "id": "591e2c4b",
   "metadata": {},
   "outputs": [
    {
     "name": "stdout",
     "output_type": "stream",
     "text": [
      "C:\\Users\\ericw\\Google Drive\\#code\\algo_trading\\data\n"
     ]
    }
   ],
   "source": [
    "print(DATA_DIR)"
   ]
  },
  {
   "cell_type": "code",
   "execution_count": 16,
   "id": "b0ce8b14",
   "metadata": {},
   "outputs": [],
   "source": [
    "EOD_DATA_DIR = os.path.join(DATA_DIR, 'eod')"
   ]
  },
  {
   "cell_type": "code",
   "execution_count": 17,
   "id": "eeb04568",
   "metadata": {},
   "outputs": [
    {
     "name": "stdout",
     "output_type": "stream",
     "text": [
      "C:\\Users\\ericw\\Google Drive\\#code\\algo_trading\\data\\eod\n"
     ]
    }
   ],
   "source": [
    "print(EOD_DATA_DIR)"
   ]
  },
  {
   "cell_type": "code",
   "execution_count": 18,
   "id": "0e8b37b0",
   "metadata": {},
   "outputs": [],
   "source": [
    "ALTERNATIVE_DATA_DIR = os.path.join(DATA_DIR, 'alternative_data')"
   ]
  },
  {
   "cell_type": "code",
   "execution_count": 19,
   "id": "d31e8401",
   "metadata": {},
   "outputs": [
    {
     "name": "stdout",
     "output_type": "stream",
     "text": [
      "C:\\Users\\ericw\\Google Drive\\#code\\algo_trading\\data\\alternative_data\n"
     ]
    }
   ],
   "source": [
    "print(ALTERNATIVE_DATA_DIR)"
   ]
  },
  {
   "cell_type": "code",
   "execution_count": 22,
   "id": "5ad134d6",
   "metadata": {},
   "outputs": [],
   "source": [
    "DATA_DIR = os.path.join(\n",
    "    os.path.dirname(os.path.abspath('__file__')), \n",
    "    'data',\n",
    ")"
   ]
  },
  {
   "cell_type": "code",
   "execution_count": 23,
   "id": "57476836",
   "metadata": {},
   "outputs": [
    {
     "name": "stdout",
     "output_type": "stream",
     "text": [
      "C:\\Users\\ericw\\Google Drive\\#code\\algo_trading\\data\n"
     ]
    }
   ],
   "source": [
    "print(DATA_DIR)"
   ]
  },
  {
   "cell_type": "code",
   "execution_count": 24,
   "id": "f4fc3fb4",
   "metadata": {},
   "outputs": [],
   "source": [
    "DATA_DIR = os.path.join(\n",
    "    os.path.dirname(os.path.abspath('__file__')), \n",
    "#    '..',\n",
    "#    '..',\n",
    "    'data',\n",
    ")"
   ]
  },
  {
   "cell_type": "code",
   "execution_count": 25,
   "id": "9849ba27",
   "metadata": {},
   "outputs": [
    {
     "name": "stdout",
     "output_type": "stream",
     "text": [
      "C:\\Users\\ericw\\Google Drive\\#code\\algo_trading\\data\n"
     ]
    }
   ],
   "source": [
    "print(DATA_DIR)"
   ]
  },
  {
   "cell_type": "code",
   "execution_count": 26,
   "id": "ef6f0dbf",
   "metadata": {},
   "outputs": [],
   "source": [
    "EOD_DATA_DIR = os.path.join(DATA_DIR, 'eod')\n",
    "ALTERNATIVE_DATA_DIR = os.path.join(DATA_DIR, 'alternative_data')"
   ]
  },
  {
   "cell_type": "code",
   "execution_count": 27,
   "id": "7c4d506c",
   "metadata": {},
   "outputs": [
    {
     "name": "stdout",
     "output_type": "stream",
     "text": [
      "C:\\Users\\ericw\\Google Drive\\#code\\algo_trading\\data\\eod\n"
     ]
    }
   ],
   "source": [
    "print(EOD_DATA_DIR)"
   ]
  },
  {
   "cell_type": "code",
   "execution_count": 28,
   "id": "d563c3e8",
   "metadata": {},
   "outputs": [
    {
     "name": "stdout",
     "output_type": "stream",
     "text": [
      "C:\\Users\\ericw\\Google Drive\\#code\\algo_trading\\data\\alternative_data\n"
     ]
    }
   ],
   "source": [
    "print(ALTERNATIVE_DATA_DIR)"
   ]
  },
  {
   "cell_type": "code",
   "execution_count": 33,
   "id": "0647c83f",
   "metadata": {},
   "outputs": [],
   "source": [
    "def load_eod_data(ticker: str, data_dir: str=EOD_DATA_DIR) -> DataFrame:\n",
    "    f_path = os.path.join(data_dir, f'{ticker}.csv')\n",
    "    assert os.path.isfile(f_path), f'No data available for {ticker}'\n",
    "    return pd.read_csv(f_path, parse_dates=['date'], index_col='date')"
   ]
  },
  {
   "cell_type": "code",
   "execution_count": 34,
   "id": "38a366a0",
   "metadata": {},
   "outputs": [
    {
     "name": "stdout",
     "output_type": "stream",
     "text": [
      "              open   close     low    high   volume\n",
      "date                                               \n",
      "2010-01-04  193.94  191.70  190.63  195.51   968029\n",
      "2010-01-05  191.02  188.17  186.99  192.42  1427075\n",
      "2010-01-06  187.17  186.50  185.10  190.07   879014\n",
      "2010-01-07  185.03  185.19  183.63  186.64  1003719\n",
      "2010-01-08  184.67  187.02  182.78  187.27   804716\n",
      "...            ...     ...     ...     ...      ...\n",
      "2019-12-24  331.06  330.85  328.43  332.91    98751\n",
      "2019-12-26  331.36  329.05  327.47  333.05   209398\n",
      "2019-12-27  332.47  325.38  325.16  332.47   225667\n",
      "2019-12-30  323.75  324.06  320.95  325.35   289266\n",
      "2019-12-31  323.91  328.93  323.70  329.09   306657\n",
      "\n",
      "[2516 rows x 5 columns]\n"
     ]
    }
   ],
   "source": [
    "print(load_eod_data('AWU'))"
   ]
  },
  {
   "cell_type": "code",
   "execution_count": null,
   "id": "e9965646",
   "metadata": {},
   "outputs": [],
   "source": []
  }
 ],
 "metadata": {
  "kernelspec": {
   "display_name": "Python 3",
   "language": "python",
   "name": "python3"
  },
  "language_info": {
   "codemirror_mode": {
    "name": "ipython",
    "version": 3
   },
   "file_extension": ".py",
   "mimetype": "text/x-python",
   "name": "python",
   "nbconvert_exporter": "python",
   "pygments_lexer": "ipython3",
   "version": "3.8.3"
  }
 },
 "nbformat": 4,
 "nbformat_minor": 5
}
